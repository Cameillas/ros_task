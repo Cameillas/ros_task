{
 "cells": [
  {
   "cell_type": "code",
   "execution_count": 9,
   "metadata": {},
   "outputs": [],
   "source": [
    "import cv2\n",
    "import matplotlib.pyplot as plt\n",
    "import numpy as np\n",
    "%matplotlib inline\n",
    "img = cv2.imread('image.png')"
   ]
  },
  {
   "cell_type": "code",
   "execution_count": 13,
   "metadata": {},
   "outputs": [],
   "source": [
    "kernel = np.ones((30,30),np.uint8)\n",
    "erosion_1 = cv2.dilate(img,kernel,iterations = 1)\n",
    "erosion_2 = cv2.erode(img, kernel, iterations= 2)\n",
    "erosion_3 = cv2.erode(img, kernel, iterations= 3)\n",
    "res = np.hstack((erosion_1,erosion_2,erosion_3))\n",
    "cv2.imshow(\"qsqjbq\",res)\n",
    "cv2.waitKey(0)\n",
    "cv2.destroyAllWindows()"
   ]
  }
 ],
 "metadata": {
  "kernelspec": {
   "display_name": "OLEV",
   "language": "python",
   "name": "python3"
  },
  "language_info": {
   "codemirror_mode": {
    "name": "ipython",
    "version": 3
   },
   "file_extension": ".py",
   "mimetype": "text/x-python",
   "name": "python",
   "nbconvert_exporter": "python",
   "pygments_lexer": "ipython3",
   "version": "3.8.20"
  }
 },
 "nbformat": 4,
 "nbformat_minor": 2
}
